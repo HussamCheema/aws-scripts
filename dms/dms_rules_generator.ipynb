{
  "nbformat": 4,
  "nbformat_minor": 0,
  "metadata": {
    "colab": {
      "provenance": []
    },
    "kernelspec": {
      "name": "python3",
      "display_name": "Python 3"
    },
    "language_info": {
      "name": "python"
    }
  },
  "cells": [
    {
      "cell_type": "code",
      "source": [
        "import json\n",
        "from copy import deepcopy"
      ],
      "metadata": {
        "id": "KleVdA1P0OaW"
      },
      "execution_count": 59,
      "outputs": []
    },
    {
      "cell_type": "code",
      "source": [
        "convert_lowercase_table_map = {\n",
        "    \"rule-type\": \"transformation\",\n",
        "    \"rule-id\": \"\",\n",
        "    \"rule-name\": \"\",\n",
        "    \"rule-target\": \"table\",\n",
        "    \"object-locator\": {\n",
        "      \"schema-name\": \"dbo\",\n",
        "      \"table-name\": \"\"\n",
        "    },\n",
        "    \"rule-action\": \"convert-lowercase\",\n",
        "    \"value\": None,\n",
        "    \"old-value\": None\n",
        "}\n",
        "\n",
        "convert_lowercase_col_map = {\n",
        "    \"rule-type\": \"transformation\",\n",
        "    \"rule-id\": \"\",\n",
        "    \"rule-name\": \"\",\n",
        "    \"rule-target\": \"column\",\n",
        "    \"object-locator\": {\n",
        "      \"schema-name\": \"dbo\",\n",
        "      \"table-name\": \"\",\n",
        "      \"column-name\": \"\"\n",
        "    },\n",
        "    \"rule-action\": \"convert-lowercase\",\n",
        "    \"value\": None,\n",
        "    \"old-value\": None\n",
        "  }\n",
        "\n",
        "convert_datatype_col_map = {\n",
        "    \"rule-type\": \"transformation\",\n",
        "    \"rule-id\": \"\",\n",
        "    \"rule-name\": \"\",\n",
        "    \"rule-target\": \"column\",\n",
        "    \"object-locator\": {\n",
        "      \"schema-name\": \"dbo\",\n",
        "      \"table-name\": \"\",\n",
        "      \"column-name\": \"\"\n",
        "    },\n",
        "    \"rule-action\": \"change-data-type\",\n",
        "    \"data-type\": {\n",
        "      \"type\": \"\"\n",
        "    }\n",
        "}\n",
        "\n",
        "remove_col_map = {\n",
        "    \"rule-type\": \"transformation\",\n",
        "    \"rule-id\": \"\",\n",
        "    \"rule-name\": \"\",\n",
        "    \"rule-target\": \"column\",\n",
        "    \"object-locator\": {\n",
        "      \"schema-name\": \"dbo\",\n",
        "      \"table-name\": \"\",\n",
        "      \"column-name\": \"\"\n",
        "    },\n",
        "    \"rule-action\": \"remove-column\",\n",
        "    \"value\": None,\n",
        "    \"old-value\": None\n",
        "}\n",
        "\n",
        "rename_col_map = {\n",
        "    \"rule-type\": \"transformation\",\n",
        "    \"rule-id\": \"\",\n",
        "    \"rule-name\": \"\",\n",
        "    \"rule-target\": \"column\",\n",
        "    \"object-locator\": {\n",
        "      \"schema-name\": \"dbo\",\n",
        "      \"table-name\": \"\",\n",
        "      \"column-name\": \"\"\n",
        "    },\n",
        "    \"rule-action\": \"rename\",\n",
        "    \"value\": \"\",\n",
        "    \"old-value\": None\n",
        "}\n",
        "\n",
        "table_include_selection_map = {\n",
        "    \"rule-type\": \"selection\",\n",
        "    \"rule-id\": \"\",\n",
        "    \"rule-name\": \"\",\n",
        "    \"object-locator\": {\n",
        "      \"schema-name\": \"dbo\",\n",
        "      \"table-name\": \"\"\n",
        "    },\n",
        "    \"rule-action\": \"include\",\n",
        "    \"filters\": []\n",
        "}"
      ],
      "metadata": {
        "id": "vKOJXwENz2vt"
      },
      "execution_count": 28,
      "outputs": []
    },
    {
      "cell_type": "code",
      "source": [
        "rules = {\n",
        "    \"rules\": [\n",
        "        \n",
        "    ]\n",
        "}"
      ],
      "metadata": {
        "id": "Ku-SQ13tzMJi"
      },
      "execution_count": 61,
      "outputs": []
    },
    {
      "cell_type": "code",
      "source": [
        "def assign_id_name_to_rule(rule):\n",
        "  rule[\"rule-id\"] = str(len(rules[\"rules\"]) + 1)\n",
        "  rule[\"rule-name\"] = str(len(rules[\"rules\"]) + 1)\n",
        "  return rule"
      ],
      "metadata": {
        "id": "mqXs1Ctp0N9c"
      },
      "execution_count": 49,
      "outputs": []
    },
    {
      "cell_type": "code",
      "source": [
        "def add_lower_case_table_rules(tables):\n",
        "  for table in tables:\n",
        "    map = deepcopy(convert_lowercase_table_map)\n",
        "    map = assign_id_name_to_rule(map)\n",
        "    map[\"object-locator\"][\"table-name\"] = table\n",
        "    rules[\"rules\"].append(map)"
      ],
      "metadata": {
        "id": "bt3HPsil1QKq"
      },
      "execution_count": 50,
      "outputs": []
    },
    {
      "cell_type": "code",
      "source": [
        "def add_lower_case_col_rules(columns, table):\n",
        "  for col in columns:\n",
        "    map = deepcopy(convert_lowercase_col_map)\n",
        "    map = assign_id_name_to_rule(map)\n",
        "    map[\"object-locator\"][\"table-name\"] = table\n",
        "    map[\"object-locator\"][\"column-name\"] = col\n",
        "    rules[\"rules\"].append(map)"
      ],
      "metadata": {
        "id": "pRkqKbWd2dKy"
      },
      "execution_count": 51,
      "outputs": []
    },
    {
      "cell_type": "code",
      "source": [
        "def add_convert_datatype_col_rules(columns, types, table):\n",
        "  for col, t in zip(columns, types):\n",
        "    map = deepcopy(convert_datatype_col_map)\n",
        "    map = assign_id_name_to_rule(map)\n",
        "    map[\"object-locator\"][\"table-name\"] = table\n",
        "    map[\"object-locator\"][\"column-name\"] = col\n",
        "    map[\"data-type\"][\"type\"] = t\n",
        "    rules[\"rules\"].append(map)"
      ],
      "metadata": {
        "id": "XzIumVQn2s5r"
      },
      "execution_count": 52,
      "outputs": []
    },
    {
      "cell_type": "code",
      "source": [
        "def add_remove_col_rules(columns, table):\n",
        "  for col in columns:\n",
        "    map = deepcopy(remove_col_map)\n",
        "    map = assign_id_name_to_rule(map)\n",
        "    map[\"object-locator\"][\"table-name\"] = table\n",
        "    map[\"object-locator\"][\"column-name\"] = col\n",
        "    rules[\"rules\"].append(map)"
      ],
      "metadata": {
        "id": "AqzVAXHt3PUo"
      },
      "execution_count": 53,
      "outputs": []
    },
    {
      "cell_type": "code",
      "source": [
        "def add_rename_col_rules(columns, table, new_name):\n",
        "  for col in columns:\n",
        "    map = deepcopy(rename_col_map)\n",
        "    map = assign_id_name_to_rule(map)\n",
        "    map[\"object-locator\"][\"table-name\"] = table\n",
        "    map[\"object-locator\"][\"column-name\"] = col\n",
        "    map[\"value\"] = new_name\n",
        "    rules[\"rules\"].append(map)"
      ],
      "metadata": {
        "id": "aUwJ_qXQ3sou"
      },
      "execution_count": 54,
      "outputs": []
    },
    {
      "cell_type": "code",
      "source": [
        "def add_table_include_selection_rules(tables):\n",
        "  map = deepcopy(table_include_selection_map)\n",
        "  for table in tables:\n",
        "    map = assign_id_name_to_rule(map)\n",
        "    map[\"object-locator\"][\"table-name\"] = table\n",
        "    rules[\"rules\"].append(map)"
      ],
      "metadata": {
        "id": "jZgQw9mU35bW"
      },
      "execution_count": 55,
      "outputs": []
    },
    {
      "cell_type": "code",
      "source": [
        "columns = [\"A\", \"B\", \"C\"]\n",
        "table = \"XYZ\"\n",
        "add_lower_case_col_rules(columns, table)"
      ],
      "metadata": {
        "id": "voi5ydPt40-G"
      },
      "execution_count": 62,
      "outputs": []
    },
    {
      "cell_type": "code",
      "source": [
        "print(json.dumps(rules, indent=4))\n",
        "rules_json = json.dumps(rules)"
      ],
      "metadata": {
        "colab": {
          "base_uri": "https://localhost:8080/"
        },
        "id": "j9DpvdX64NI6",
        "outputId": "dc2a9426-64e5-4b91-cf31-2e6f484c7578"
      },
      "execution_count": 65,
      "outputs": [
        {
          "output_type": "stream",
          "name": "stdout",
          "text": [
            "{\n",
            "    \"rules\": [\n",
            "        {\n",
            "            \"rule-type\": \"transformation\",\n",
            "            \"rule-id\": \"1\",\n",
            "            \"rule-name\": \"1\",\n",
            "            \"rule-target\": \"column\",\n",
            "            \"object-locator\": {\n",
            "                \"schema-name\": \"dbo\",\n",
            "                \"table-name\": \"XYZ\",\n",
            "                \"column-name\": \"A\"\n",
            "            },\n",
            "            \"rule-action\": \"convert-lowercase\",\n",
            "            \"value\": null,\n",
            "            \"old-value\": null\n",
            "        },\n",
            "        {\n",
            "            \"rule-type\": \"transformation\",\n",
            "            \"rule-id\": \"2\",\n",
            "            \"rule-name\": \"2\",\n",
            "            \"rule-target\": \"column\",\n",
            "            \"object-locator\": {\n",
            "                \"schema-name\": \"dbo\",\n",
            "                \"table-name\": \"XYZ\",\n",
            "                \"column-name\": \"B\"\n",
            "            },\n",
            "            \"rule-action\": \"convert-lowercase\",\n",
            "            \"value\": null,\n",
            "            \"old-value\": null\n",
            "        },\n",
            "        {\n",
            "            \"rule-type\": \"transformation\",\n",
            "            \"rule-id\": \"3\",\n",
            "            \"rule-name\": \"3\",\n",
            "            \"rule-target\": \"column\",\n",
            "            \"object-locator\": {\n",
            "                \"schema-name\": \"dbo\",\n",
            "                \"table-name\": \"XYZ\",\n",
            "                \"column-name\": \"C\"\n",
            "            },\n",
            "            \"rule-action\": \"convert-lowercase\",\n",
            "            \"value\": null,\n",
            "            \"old-value\": null\n",
            "        }\n",
            "    ]\n",
            "}\n"
          ]
        }
      ]
    },
    {
      "cell_type": "code",
      "source": [],
      "metadata": {
        "id": "Ez8ACxhh6mD2"
      },
      "execution_count": null,
      "outputs": []
    }
  ]
}